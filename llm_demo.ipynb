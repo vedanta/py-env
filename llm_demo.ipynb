{
 "cells": [
  {
   "cell_type": "code",
   "execution_count": null,
   "id": "2778f4d5",
   "metadata": {},
   "outputs": [],
   "source": [
    "# Cell 1: Setup\n",
    "from llm_client import LLMClient\n",
    "\n",
    "# Load from .env automatically\n",
    "llm = LLMClient()\n",
    "print(\"LLM Client initialized using:\", \"Ollama\" if llm.use_ollama else \"OpenAI\")\n"
   ]
  },
  {
   "cell_type": "code",
   "execution_count": null,
   "id": "51c658c9",
   "metadata": {},
   "outputs": [],
   "source": [
    "# Cell 2: Ask a question\n",
    "response = llm.chat([\n",
    "    {\"role\": \"system\", \"content\": \"You are a helpful assistant.\"},\n",
    "    {\"role\": \"user\", \"content\": \"Summarize the history of space exploration in 2 lines.\"}\n",
    "])\n",
    "print(\"LLM Response:\\n\", response)\n"
   ]
  }
 ],
 "metadata": {
  "kernelspec": {
   "display_name": "py-env",
   "language": "python",
   "name": "python3"
  },
  "language_info": {
   "codemirror_mode": {
    "name": "ipython",
    "version": 3
   },
   "file_extension": ".py",
   "mimetype": "text/x-python",
   "name": "python",
   "nbconvert_exporter": "python",
   "pygments_lexer": "ipython3",
   "version": "3.10.16"
  }
 },
 "nbformat": 4,
 "nbformat_minor": 5
}
